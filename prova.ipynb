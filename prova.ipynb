{
 "cells": [
  {
   "cell_type": "code",
   "execution_count": 49,
   "metadata": {},
   "outputs": [],
   "source": [
    "import numpy as np\n",
    "import sympy as sp\n"
   ]
  },
  {
   "cell_type": "code",
   "execution_count": 78,
   "metadata": {},
   "outputs": [
    {
     "name": "stdout",
     "output_type": "stream",
     "text": [
      "Analise Marginal: 2100.000000\n",
      "Taxa de variação: 2069.000000\n"
     ]
    }
   ],
   "source": [
    "# exercicio 1\n",
    "xi, yi = sp.symbols('x y')\n",
    "\n",
    "f = 1200*xi + 500*yi + xi**2*yi - xi**3 - yi**2\n",
    "\n",
    "f_d = sp.diff(f, xi)\n",
    "\n",
    "f_derivada = lambda x, y: eval(str(f_d))\n",
    "\n",
    "\n",
    "#Analise marginal\n",
    "print(\"Analise Marginal: %f\" % f_derivada(30, 60))\n",
    "\n",
    "\n",
    "#variação\n",
    "f_variacao = lambda xi, yi: 1200*xi + 500*yi + xi**2*yi - xi**3 - yi**2\n",
    "\n",
    "res_variacao = f_variacao(31, 60) - f_variacao(30, 60)\n",
    "\n",
    "print(\"Taxa de variação: %f\" % res_variacao)"
   ]
  },
  {
   "cell_type": "code",
   "execution_count": null,
   "metadata": {},
   "outputs": [],
   "source": [
    "# A taxa de variação é a derivada do lucro\n",
    "# logo quanto maior a produção, menor o lucro\n",
    "# Justificativa do dois "
   ]
  },
  {
   "cell_type": "code",
   "execution_count": 56,
   "metadata": {},
   "outputs": [
    {
     "name": "stdout",
     "output_type": "stream",
     "text": [
      "-7193200\n"
     ]
    }
   ],
   "source": [
    "# exercicio 2\n",
    "\n",
    "x = sp.symbols('x')\n",
    "\n",
    "fx = - 400*x**2 + 6800*x - 12000\n",
    "\n",
    "fx_deri = sp.diff(fx, x)\n",
    "\n",
    "res = fx_deri.subs(x, 9000)\n",
    "\n",
    "print(res)"
   ]
  },
  {
   "cell_type": "code",
   "execution_count": 76,
   "metadata": {},
   "outputs": [
    {
     "name": "stdout",
     "output_type": "stream",
     "text": [
      "variação peso: 0.012961\n",
      "variação altura: 0.006782\n"
     ]
    }
   ],
   "source": [
    "# exercicio 3\n",
    "\n",
    "sw = lambda x:  0.0072 * (x**0.425) * (163**0.725) \n",
    "sh = lambda x:  0.0072 * (50**0.425) * (x**0.725) \n",
    "\n",
    "def derivada_central(funcao, a, h=0.01):\n",
    "    return (funcao(a+h)-funcao(a-h))/(2*h)\n",
    "\n",
    "print(\"variação peso: %f\" % derivada_central(sw, 50))\n",
    "print(\"variação altura: %f\" % derivada_central(sh, 163))\n"
   ]
  },
  {
   "cell_type": "code",
   "execution_count": null,
   "metadata": {},
   "outputs": [],
   "source": []
  },
  {
   "cell_type": "code",
   "execution_count": null,
   "metadata": {},
   "outputs": [],
   "source": []
  }
 ],
 "metadata": {
  "kernelspec": {
   "display_name": "Python 3",
   "language": "python",
   "name": "python3"
  },
  "language_info": {
   "codemirror_mode": {
    "name": "ipython",
    "version": 3
   },
   "file_extension": ".py",
   "mimetype": "text/x-python",
   "name": "python",
   "nbconvert_exporter": "python",
   "pygments_lexer": "ipython3",
   "version": "3.7.1"
  }
 },
 "nbformat": 4,
 "nbformat_minor": 2
}
